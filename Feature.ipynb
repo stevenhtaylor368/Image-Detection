{
 "cells": [
  {
   "cell_type": "code",
   "execution_count": 1,
   "metadata": {},
   "outputs": [],
   "source": [
    "#Program based on tutorial \n",
    "#https://opencv-python-tutroals.readthedocs.io/en/latest/py_tutorials/py_feature2d/py_sift_intro/py_sift_intro.html#sift-intro\n",
    "\n",
    "import numpy as np  #Nimport Numerical Python \n",
    "import cv2          #import OpenCV 2\n",
    "\n",
    "#read in files in turn \n",
    "#use cv2.sift()?\n",
    "\n",
    "\n",
    "myImage = cv2.imread('goby.png') #Load color image into gray scale\n",
    "                                            #0- loads grayscale image\n",
    "                                            #1- loads color image\n",
    "grayImage= cv2.cvtColor(myImage,cv2.COLOR_BGR2GRAY)\n",
    "        \n",
    "\n",
    "sift = cv2.SIFT_create()\n",
    "\n",
    "kp = sift.detect(myImage,None)\n",
    "img = cv2.drawKeypoints(grayImage,kp,myImage)\n",
    "cv2.imshow('sift_keypoints.jpg',img)\n",
    "\n",
    "\n",
    "\n",
    "inputKey = cv2.waitKey() & 0xFF\n",
    "if inputKey == 27:         # wait for ESC key to exit\n",
    "    cv2.destroyAllWindows()\n",
    "    #0xFF refers to 64 bit machines\n",
    "    #We use bitwise and to see if everything lines up to be a 1, if not everything does it will return false\n",
    "elif inputKey == ord('s'): # wait for 's' key to save and exit\n",
    "#   imwrite -- save image in file    param1-->name of file, param2 --> imageVariable\n",
    "    cv2.imwrite('created1984.jpg', myImage)\n",
    "    cv2.destroyAllWindows()\n"
   ]
  },
  {
   "cell_type": "code",
   "execution_count": null,
   "metadata": {},
   "outputs": [],
   "source": []
  }
 ],
 "metadata": {
  "kernelspec": {
   "display_name": "Python 3",
   "language": "python",
   "name": "python3"
  },
  "language_info": {
   "codemirror_mode": {
    "name": "ipython",
    "version": 3
   },
   "file_extension": ".py",
   "mimetype": "text/x-python",
   "name": "python",
   "nbconvert_exporter": "python",
   "pygments_lexer": "ipython3",
   "version": "3.8.3"
  }
 },
 "nbformat": 4,
 "nbformat_minor": 4
}
