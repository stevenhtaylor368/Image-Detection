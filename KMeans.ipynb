{
 "cells": [
  {
   "cell_type": "code",
   "execution_count": null,
   "metadata": {},
   "outputs": [],
   "source": [
    "#https://github.com/kushalvyas/Bag-of-Visual-Words-Python\n",
    "import numpy as np \n",
    "from matplotlib import pyplot as plt \n",
    "from sklearn.cluster import KMeans\n",
    "from sklearn.datasets import make_blobs \n",
    "\n",
    "# create a dataset sample space that will be used\n",
    "# to test KMeans. Use function : make_blobs\n",
    "# \n",
    "\n",
    "n_samples = 1000\n",
    "n_features = 5;\n",
    "n_clusters = 3;\n",
    "\n",
    "# aint this sweet \n",
    "X, y = make_blobs(n_samples, n_features) \n",
    "# X => array of shape [nsamples,nfeatures] ;;; y => array of shape[nsamples]\n",
    "\n",
    "# X : generated samples, y : integer labels for cluster membership of each sample\n",
    "# \n",
    "# \n",
    "\n",
    "# performing KMeans clustering\n",
    "\n",
    "ret =  KMeans(n_clusters = n_clusters).fit_predict(X)\n",
    "print ret\n",
    "\n",
    "__, ax = plt.subplots(2)\n",
    "ax[0].scatter(X[:,0], X[:,1])\n",
    "ax[0].set_title(\"Initial Scatter Distribution\")\n",
    "ax[1].scatter(X[:,0], X[:,1], c=ret)\n",
    "ax[1].set_title(\"Colored Partition denoting Clusters\")\n",
    "# plt.scatter\n",
    "plt.show()"
   ]
  }
 ],
 "metadata": {
  "kernelspec": {
   "display_name": "Python 3",
   "language": "python",
   "name": "python3"
  },
  "language_info": {
   "codemirror_mode": {
    "name": "ipython",
    "version": 3
   },
   "file_extension": ".py",
   "mimetype": "text/x-python",
   "name": "python",
   "nbconvert_exporter": "python",
   "pygments_lexer": "ipython3",
   "version": "3.8.3"
  }
 },
 "nbformat": 4,
 "nbformat_minor": 4
}
